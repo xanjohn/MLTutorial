{
 "cells": [
  {
   "cell_type": "markdown",
   "id": "ec2f4fbc-811f-43bf-be5b-cf40a25b202a",
   "metadata": {},
   "source": [
    "## Let's Say Bismillah First"
   ]
  },
  {
   "cell_type": "code",
   "execution_count": 2,
   "id": "ba92f6c5-50f3-4b5a-a11b-42a058b90710",
   "metadata": {},
   "outputs": [],
   "source": [
    "import pandas as pd\n",
    "from sklearn.datasets import load_digits"
   ]
  },
  {
   "cell_type": "code",
   "execution_count": 3,
   "id": "5d049a04-ca62-4f7a-9045-1cc886341487",
   "metadata": {},
   "outputs": [
    {
     "data": {
      "text/plain": [
       "['DESCR', 'data', 'feature_names', 'frame', 'images', 'target', 'target_names']"
      ]
     },
     "execution_count": 3,
     "metadata": {},
     "output_type": "execute_result"
    }
   ],
   "source": [
    "digits = load_digits()\n",
    "dir(digits)"
   ]
  },
  {
   "cell_type": "code",
   "execution_count": null,
   "id": "b2810175-8b1f-4d2b-a673-d9ddaa001ad1",
   "metadata": {},
   "outputs": [],
   "source": [
    "df = pd.Dataframe()"
   ]
  }
 ],
 "metadata": {
  "kernelspec": {
   "display_name": "Python 3 (ipykernel)",
   "language": "python",
   "name": "python3"
  },
  "language_info": {
   "codemirror_mode": {
    "name": "ipython",
    "version": 3
   },
   "file_extension": ".py",
   "mimetype": "text/x-python",
   "name": "python",
   "nbconvert_exporter": "python",
   "pygments_lexer": "ipython3",
   "version": "3.12.1"
  }
 },
 "nbformat": 4,
 "nbformat_minor": 5
}
